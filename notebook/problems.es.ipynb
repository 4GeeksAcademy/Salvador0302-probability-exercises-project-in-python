{
 "cells": [
  {
   "cell_type": "markdown",
   "id": "a41f3622",
   "metadata": {},
   "source": [
    "# Ejercicios de probabilidad"
   ]
  },
  {
   "cell_type": "markdown",
   "id": "a6bdbd89",
   "metadata": {},
   "source": [
    "## Ejercicio 1 \n",
    "\n",
    "Dos dados se lanzan una vez y se observa el total obtenido. Usa una simulación para encontrar la probabilidad estimada de que la puntuación sea mayor a 7 o un número par. Una simulación es una repetición del mismo experimento multiples veces para observar su comportamiento:\n",
    "\n",
    "- Ejecuta el experimento 1000 veces (lanza 2 dados 1000 veces, y suma el número de ambos dados).\n",
    "- Lleva ua cuenta de los números y las veces que la suma fue mayor a 7 o un número par.\n",
    "- Divide el número del paso 2 entre el número de iteraciones(1000)."
   ]
  },
  {
   "cell_type": "code",
   "execution_count": 152,
   "id": "8939d892",
   "metadata": {},
   "outputs": [
    {
     "name": "stdout",
     "output_type": "stream",
     "text": [
      "La probabilidad estimada en la simulacion es:  65.5 %\n",
      "------------------------------------------------------------------------------------------------------------\n",
      "La probabilidad real es 0.416 + 0.5 - (0.25) = 6.66% asi que los valores van a ser cercanos a ese valor.\n"
     ]
    }
   ],
   "source": [
    "import numpy as np\n",
    "\n",
    "contador = 0\n",
    "\n",
    "for i in range (1000):\n",
    "    lanz_1 = np.random.randint(1,7)\n",
    "    lanz_2 = np.random.randint(1,7)\n",
    "    suma = lanz_1 + lanz_2\n",
    "    if suma > 7 or suma%2 == 0:\n",
    "        contador += 1\n",
    "\n",
    "probabilidad = contador/10\n",
    "\n",
    "print(\"La probabilidad estimada en la simulacion es: \", probabilidad, \"%\")\n",
    "print(\"------------------------------------------------------------------------------------------------------------\")\n",
    "print(\"La probabilidad real es 0.416 + 0.5 - (0.25) = 6.66% asi que los valores van a ser cercanos a ese valor.\")"
   ]
  },
  {
   "cell_type": "markdown",
   "id": "55732bca",
   "metadata": {},
   "source": [
    "## Ejercicio 2\n",
    "\n",
    "Una caja contiene 10 bolas blancas, 20 bolas rojas y 30 bolas verdes. Si tomamos 5 bolas de la caja reemplazándolas (tomando una bola, anotando el color y luego regresandola a la caja). Queremos saber la probabilidad de:\n",
    "\n",
    "1. Tomar 3 blancas y 2 rojas.\n",
    "2. Todas todas del mismo color.\n",
    "\n",
    "Ejecuta el experimento 1000 veces y calcula las probabilidades que mencionadas."
   ]
  },
  {
   "cell_type": "code",
   "execution_count": 224,
   "id": "23244d20",
   "metadata": {},
   "outputs": [
    {
     "name": "stdout",
     "output_type": "stream",
     "text": [
      "{0: 'Blanco', 1: 'Blanco', 2: 'Blanco', 3: 'Blanco', 4: 'Blanco', 5: 'Blanco', 6: 'Blanco', 7: 'Blanco', 8: 'Blanco', 9: 'Blanco', 10: 'Rojo', 11: 'Rojo', 12: 'Rojo', 13: 'Rojo', 14: 'Rojo', 15: 'Rojo', 16: 'Rojo', 17: 'Rojo', 18: 'Rojo', 19: 'Rojo', 20: 'Rojo', 21: 'Rojo', 22: 'Rojo', 23: 'Rojo', 24: 'Rojo', 25: 'Rojo', 26: 'Rojo', 27: 'Rojo', 28: 'Rojo', 29: 'Rojo', 30: 'Verde', 31: 'Verde', 32: 'Verde', 33: 'Verde', 34: 'Verde', 35: 'Verde', 36: 'Verde', 37: 'Verde', 38: 'Verde', 39: 'Verde', 40: 'Verde', 41: 'Verde', 42: 'Verde', 43: 'Verde', 44: 'Verde', 45: 'Verde', 46: 'Verde', 47: 'Verde', 48: 'Verde', 49: 'Verde', 50: 'Verde', 51: 'Verde', 52: 'Verde', 53: 'Verde', 54: 'Verde', 55: 'Verde', 56: 'Verde', 57: 'Verde', 58: 'Verde', 59: 'Verde'}\n",
      "La probabilidad de tomar 3 blancas y 2 rojas es:  0.3 %\n",
      "La probabilidad de tomar todas del mismo color:  3.9 %\n"
     ]
    }
   ],
   "source": [
    "ball_box = {}\n",
    "\n",
    "# Crea la cajas con las bolas\n",
    "for i in range(60):\n",
    "    if i < 10:\n",
    "        ball_box[i] = \"Blanco\"\n",
    "    elif (i > 9) and (i < 30):\n",
    "        ball_box[i] = \"Rojo\"\n",
    "    else:\n",
    "        ball_box[i] = \"Verde\"\n",
    "\n",
    "print(ball_box)\n",
    "\n",
    "lista_caja = list(ball_box.values())\n",
    "contador1 = 0\n",
    "contador2 = 0\n",
    "\n",
    "for i in range (1000):\n",
    "    bolas_tomadas = np.random.choice(lista_caja, size = 5, replace=True)\n",
    "    bolas_tomadas = list(bolas_tomadas)\n",
    "    if bolas_tomadas.count(\"Blanco\") == 3 and bolas_tomadas.count(\"Rojo\") ==2:\n",
    "        contador1 +=1\n",
    "\n",
    "    if bolas_tomadas.count(\"Blanco\") == 5 or bolas_tomadas.count(\"Rojo\") == 5 or bolas_tomadas.count(\"Verde\") == 5:\n",
    "        contador2 += 1\n",
    "\n",
    "probabilidad1 = contador1/10\n",
    "probabilidad2 = contador2/10\n",
    "\n",
    "print(\"La probabilidad de tomar 3 blancas y 2 rojas es: \", probabilidad1,\"%\")\n",
    "print(\"La probabilidad de tomar todas del mismo color: \", probabilidad2,\"%\")"
   ]
  }
 ],
 "metadata": {
  "kernelspec": {
   "display_name": "env1",
   "language": "python",
   "name": "python3"
  },
  "language_info": {
   "codemirror_mode": {
    "name": "ipython",
    "version": 3
   },
   "file_extension": ".py",
   "mimetype": "text/x-python",
   "name": "python",
   "nbconvert_exporter": "python",
   "pygments_lexer": "ipython3",
   "version": "3.11.4"
  }
 },
 "nbformat": 4,
 "nbformat_minor": 5
}
